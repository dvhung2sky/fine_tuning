{
 "cells": [
  {
   "cell_type": "code",
   "execution_count": 52,
   "metadata": {
    "colab": {},
    "colab_type": "code",
    "id": "f7y4Vm9-Ed1B"
   },
   "outputs": [],
   "source": [
    "%matplotlib inline\n",
    "from pathlib import Path\n",
    "\n",
    "import os\n",
    "import numpy as np\n",
    "import pandas as pd\n",
    "import matplotlib.pyplot as plt\n",
    "from collections import Counter\n",
    "from torchvision import datasets, models, transforms\n",
    "from torch.optim import lr_scheduler\n",
    "import PIL\n",
    "\n",
    "from fastai import *\n",
    "from fastai.vision import *\n",
    "import fastai; fastai.__version__\n",
    "\n",
    "import torch\n",
    "import torch.nn as nn\n",
    "import torch.optim as optim\n",
    "import time\n",
    "import copy"
   ]
  },
  {
   "cell_type": "code",
   "execution_count": null,
   "metadata": {
    "colab": {},
    "colab_type": "code",
    "id": "_h5bLhGUEz9F"
   },
   "outputs": [],
   "source": []
  },
  {
   "cell_type": "code",
   "execution_count": 53,
   "metadata": {
    "colab": {},
    "colab_type": "code",
    "id": "9oZ4dvaRRREG"
   },
   "outputs": [
    {
     "data": {
      "text/plain": [
       "device(type='cuda', index=0)"
      ]
     },
     "execution_count": 53,
     "metadata": {},
     "output_type": "execute_result"
    }
   ],
   "source": [
    "device = torch.device(\"cuda:0\" if torch.cuda.is_available() else \"cpu\")\n",
    "device"
   ]
  },
  {
   "cell_type": "code",
   "execution_count": 54,
   "metadata": {
    "colab": {},
    "colab_type": "code",
    "id": "RDzk7AvEE0Dn"
   },
   "outputs": [],
   "source": [
    "pdata = Path('D://hung//UTKFace//')\n",
    "fns = list(pdata.glob('*.jpg'))\n",
    "fns = [fn for fn in fns if len(str(fn).split('/')[-1].split('_'))==4 and '__' not in str(fn)]"
   ]
  },
  {
   "cell_type": "code",
   "execution_count": 55,
   "metadata": {},
   "outputs": [
    {
     "data": {
      "text/plain": [
       "23705"
      ]
     },
     "execution_count": 55,
     "metadata": {},
     "output_type": "execute_result"
    }
   ],
   "source": [
    "len(fns)"
   ]
  },
  {
   "cell_type": "code",
   "execution_count": 56,
   "metadata": {
    "colab": {},
    "colab_type": "code",
    "id": "iD30TQuCEwps"
   },
   "outputs": [],
   "source": [
    "def show_dct(dct, n=3):\n",
    "    return dict(list(dct.items())[:n])"
   ]
  },
  {
   "cell_type": "code",
   "execution_count": 57,
   "metadata": {
    "colab": {
     "base_uri": "https://localhost:8080/",
     "height": 70
    },
    "colab_type": "code",
    "id": "nBxOcIV5Ews4",
    "outputId": "bcc70739-7959-4300-880e-d34cdbceaaee"
   },
   "outputs": [
    {
     "data": {
      "text/plain": [
       "['100_0_0_20170112213500903.jpg.chip.jpg',\n",
       " '100_0_0_20170112215240346.jpg.chip.jpg',\n",
       " '100_1_0_20170110183726390.jpg.chip.jpg']"
      ]
     },
     "execution_count": 57,
     "metadata": {},
     "output_type": "execute_result"
    }
   ],
   "source": [
    "i2fn = fns\n",
    "fn2i = {fn:i for i,fn in enumerate(i2fn)}\n",
    "show_dct(fn2i)\n",
    "bs_fns = [os.path.basename(o) for o in fns]\n",
    "bs_fns[:3]"
   ]
  },
  {
   "cell_type": "code",
   "execution_count": 58,
   "metadata": {
    "colab": {},
    "colab_type": "code",
    "id": "D_44LlcXFh2w"
   },
   "outputs": [],
   "source": [
    "i2age, i2gender, i2race = zip(*[bs_fn.split('_')[:3] for bs_fn in bs_fns])"
   ]
  },
  {
   "cell_type": "code",
   "execution_count": 59,
   "metadata": {
    "colab": {
     "base_uri": "https://localhost:8080/",
     "height": 193
    },
    "colab_type": "code",
    "id": "P2Q8kZRaFh6X",
    "outputId": "4618e28f-815e-454c-e38e-2f7b69c32c30"
   },
   "outputs": [
    {
     "data": {
      "text/plain": [
       "[(('Asian', 'f'), 1859),\n",
       " (('Asian', 'm'), 1575),\n",
       " (('Black', 'f'), 2208),\n",
       " (('Black', 'm'), 2318),\n",
       " (('Indian', 'f'), 1714),\n",
       " (('Indian', 'm'), 2261),\n",
       " (('Others', 'f'), 932),\n",
       " (('Others', 'm'), 760),\n",
       " (('White', 'f'), 4601),\n",
       " (('White', 'm'), 5477)]"
      ]
     },
     "execution_count": 59,
     "metadata": {},
     "output_type": "execute_result"
    }
   ],
   "source": [
    "i2age = [int(o) for o in i2age]\n",
    "o2gender = {'0': 'm', '1': 'f'}\n",
    "i2gender = [o2gender[o] for o in i2gender]\n",
    "o2race = dict(list(enumerate(('White', 'Black', 'Asian', 'Indian', 'Others'))))\n",
    "i2race = [o2race[int(o)] for o in i2race]\n",
    "sorted(Counter(list(zip(i2race, i2gender))). items())"
   ]
  },
  {
   "cell_type": "code",
   "execution_count": 60,
   "metadata": {
    "colab": {},
    "colab_type": "code",
    "id": "rrWw57IrF40U"
   },
   "outputs": [],
   "source": [
    "df = pd.DataFrame({'img_name': i2fn, 'age': i2age, 'gender': i2gender, 'race': i2race})\n",
    "# df.to_csv('img2targets.csv', index=False)"
   ]
  },
  {
   "cell_type": "code",
   "execution_count": 61,
   "metadata": {
    "colab": {
     "base_uri": "https://localhost:8080/",
     "height": 195
    },
    "colab_type": "code",
    "id": "fYkd-YmOF44E",
    "outputId": "c70860f9-cf2b-406c-b3a8-67f5beef0870"
   },
   "outputs": [
    {
     "data": {
      "text/html": [
       "<div>\n",
       "<style scoped>\n",
       "    .dataframe tbody tr th:only-of-type {\n",
       "        vertical-align: middle;\n",
       "    }\n",
       "\n",
       "    .dataframe tbody tr th {\n",
       "        vertical-align: top;\n",
       "    }\n",
       "\n",
       "    .dataframe thead th {\n",
       "        text-align: right;\n",
       "    }\n",
       "</style>\n",
       "<table border=\"1\" class=\"dataframe\">\n",
       "  <thead>\n",
       "    <tr style=\"text-align: right;\">\n",
       "      <th></th>\n",
       "      <th>img_name</th>\n",
       "      <th>age</th>\n",
       "      <th>gender</th>\n",
       "      <th>race</th>\n",
       "      <th>is_train</th>\n",
       "    </tr>\n",
       "  </thead>\n",
       "  <tbody>\n",
       "    <tr>\n",
       "      <th>0</th>\n",
       "      <td>D:\\hung\\UTKFace\\100_0_0_20170112213500903.jpg....</td>\n",
       "      <td>100</td>\n",
       "      <td>m</td>\n",
       "      <td>White</td>\n",
       "      <td>2</td>\n",
       "    </tr>\n",
       "    <tr>\n",
       "      <th>1</th>\n",
       "      <td>D:\\hung\\UTKFace\\100_0_0_20170112215240346.jpg....</td>\n",
       "      <td>100</td>\n",
       "      <td>m</td>\n",
       "      <td>White</td>\n",
       "      <td>2</td>\n",
       "    </tr>\n",
       "    <tr>\n",
       "      <th>2</th>\n",
       "      <td>D:\\hung\\UTKFace\\100_1_0_20170110183726390.jpg....</td>\n",
       "      <td>100</td>\n",
       "      <td>f</td>\n",
       "      <td>White</td>\n",
       "      <td>1</td>\n",
       "    </tr>\n",
       "    <tr>\n",
       "      <th>3</th>\n",
       "      <td>D:\\hung\\UTKFace\\100_1_0_20170112213001988.jpg....</td>\n",
       "      <td>100</td>\n",
       "      <td>f</td>\n",
       "      <td>White</td>\n",
       "      <td>2</td>\n",
       "    </tr>\n",
       "    <tr>\n",
       "      <th>4</th>\n",
       "      <td>D:\\hung\\UTKFace\\100_1_0_20170112213303693.jpg....</td>\n",
       "      <td>100</td>\n",
       "      <td>f</td>\n",
       "      <td>White</td>\n",
       "      <td>1</td>\n",
       "    </tr>\n",
       "  </tbody>\n",
       "</table>\n",
       "</div>"
      ],
      "text/plain": [
       "                                            img_name  age gender   race  \\\n",
       "0  D:\\hung\\UTKFace\\100_0_0_20170112213500903.jpg....  100      m  White   \n",
       "1  D:\\hung\\UTKFace\\100_0_0_20170112215240346.jpg....  100      m  White   \n",
       "2  D:\\hung\\UTKFace\\100_1_0_20170110183726390.jpg....  100      f  White   \n",
       "3  D:\\hung\\UTKFace\\100_1_0_20170112213001988.jpg....  100      f  White   \n",
       "4  D:\\hung\\UTKFace\\100_1_0_20170112213303693.jpg....  100      f  White   \n",
       "\n",
       "   is_train  \n",
       "0         2  \n",
       "1         2  \n",
       "2         1  \n",
       "3         2  \n",
       "4         1  "
      ]
     },
     "execution_count": 61,
     "metadata": {},
     "output_type": "execute_result"
    }
   ],
   "source": [
    "df['is_train'] = np.random.choice(3, size=len(df), p=[0.1, 0.1, 0.8])\n",
    "df.head()"
   ]
  },
  {
   "cell_type": "code",
   "execution_count": 62,
   "metadata": {
    "colab": {},
    "colab_type": "code",
    "id": "E_OkD9KjNrpX"
   },
   "outputs": [],
   "source": [
    "# Data augmentation and normalization for training\n",
    "# Just normalization for validation\n",
    "d_transforms = transforms.Compose([\n",
    "        transforms.Resize(256),\n",
    "        transforms.CenterCrop(224),\n",
    "        transforms.ToTensor(),\n",
    "        transforms.Normalize([0.485, 0.456, 0.406], [0.229, 0.224, 0.225]) ])\n"
   ]
  },
  {
   "cell_type": "code",
   "execution_count": 63,
   "metadata": {
    "colab": {},
    "colab_type": "code",
    "id": "EuYGQHwshewP"
   },
   "outputs": [],
   "source": [
    "class MultitaskDataset(torch.utils.data.dataset.Dataset):\n",
    "    \"`Dataset` for joint single and multi-label image classification.\"\n",
    "    def __init__(self, \n",
    "                 fns,\n",
    "                 labels_gender,\n",
    "                 classes_gender, transform):\n",
    "        \n",
    "        self.x = np.array(fns)              \n",
    "        self.classes_gender = classes_gender\n",
    "        self.class2idx_gender = {v:k for k,v in enumerate(self.classes_gender)}\n",
    "        self.y_gender = np.array([self.class2idx_gender[o] for o in labels_gender], dtype=np.int64)\n",
    "        self.c_gender = len(classes_gender)\n",
    "        \n",
    "        self.transform = transform\n",
    "    \n",
    "    def __len__(self): return len(self.x)\n",
    "    \n",
    "    def __getitem__(self,i:int): \n",
    "        return self.transform(PIL.Image.open(self.x[i])), torch.tensor([self.y_gender[i]])\n",
    "    \n",
    "    def __repr__(self): return f'{type(self).__name__} of len {len(self)}'"
   ]
  },
  {
   "cell_type": "code",
   "execution_count": 64,
   "metadata": {
    "colab": {},
    "colab_type": "code",
    "id": "hcdCsnttHcf6"
   },
   "outputs": [],
   "source": [
    "def get_dataset(df):\n",
    "    return MultitaskDataset(df.img_name, \n",
    "                            labels_gender=df.gender, \n",
    "                            classes_gender=sorted(set(df.gender)), transform = d_transforms)"
   ]
  },
  {
   "cell_type": "code",
   "execution_count": 65,
   "metadata": {
    "colab": {},
    "colab_type": "code",
    "id": "wPejUuiCHcoU"
   },
   "outputs": [],
   "source": [
    "train_ds = get_dataset(df[df.is_train==1])\n",
    "valid_ds = get_dataset(df[df.is_train==0])"
   ]
  },
  {
   "cell_type": "code",
   "execution_count": 66,
   "metadata": {
    "colab": {
     "base_uri": "https://localhost:8080/",
     "height": 34
    },
    "colab_type": "code",
    "id": "UY6RKX-Wgyv3",
    "outputId": "b6c710a9-a524-429b-920c-4d6059e1a7a5"
   },
   "outputs": [
    {
     "data": {
      "text/plain": [
       "{'train': 2372, 'val': 2365}"
      ]
     },
     "execution_count": 66,
     "metadata": {},
     "output_type": "execute_result"
    }
   ],
   "source": [
    "dataset_sizes = {'train': len(train_ds), 'val': len(valid_ds)}\n",
    "\n",
    "train_loader = torch.utils.data.DataLoader(train_ds, batch_size=8,shuffle=True)\n",
    "valid_loader = torch.utils.data.DataLoader(valid_ds, batch_size=8,shuffle=True)\n",
    "\n",
    "dataloaders={'train': train_loader, 'val': valid_loader}\n",
    "dataset_sizes"
   ]
  },
  {
   "cell_type": "code",
   "execution_count": 67,
   "metadata": {
    "colab": {},
    "colab_type": "code",
    "id": "68G_cFuqHzFV"
   },
   "outputs": [],
   "source": [
    "def singletask_loss(input, target):\n",
    "    target_t = target[:,0]\n",
    "    loss = torch.nn.functional.cross_entropy(input, target_t.long())\n",
    "    return loss"
   ]
  },
  {
   "cell_type": "code",
   "execution_count": null,
   "metadata": {
    "colab": {},
    "colab_type": "code",
    "id": "ocD9TqND0vK4"
   },
   "outputs": [],
   "source": []
  },
  {
   "cell_type": "markdown",
   "metadata": {
    "colab_type": "text",
    "id": "gRY_roMKODR-"
   },
   "source": [
    "## Model"
   ]
  },
  {
   "cell_type": "code",
   "execution_count": 68,
   "metadata": {
    "colab": {},
    "colab_type": "code",
    "id": "sogXC4XbOBi8"
   },
   "outputs": [],
   "source": [
    "N_gender = len(set(df.gender))\n",
    "\n",
    "model_ft = models.resnet18(pretrained=True)\n",
    "for param in model_ft.parameters():\n",
    "    param.requires_grad = False\n",
    "\n",
    "num_ftrs = model_ft.fc.in_features\n",
    "model_ft.fc = nn.Linear(num_ftrs, N_gender)\n",
    "model_ft = model_ft.to(device)\n",
    "optimizer_ft = optim.SGD(model_ft.parameters(), lr=0.001, momentum=0.9)\n",
    "exp_lr_scheduler = lr_scheduler.StepLR(optimizer_ft, step_size=7, gamma=0.1)\n",
    "criterion = nn.CrossEntropyLoss()"
   ]
  },
  {
   "cell_type": "code",
   "execution_count": 69,
   "metadata": {
    "colab": {},
    "colab_type": "code",
    "id": "bfW8ulZAOBn7"
   },
   "outputs": [],
   "source": [
    "def train_model(model, criterion, optimizer, scheduler, num_epochs=25):\n",
    "    since = time.time()\n",
    "\n",
    "    best_model_wts = copy.deepcopy(model.state_dict())\n",
    "    best_acc = 0.0\n",
    "\n",
    "    for epoch in range(num_epochs):\n",
    "        print('Epoch {}/{}'.format(epoch, num_epochs - 1))\n",
    "        print('-' * 10)\n",
    "\n",
    "        # Each epoch has a training and validation phase\n",
    "        model.train()  # Set model to training mode\n",
    "        running_loss = 0.0\n",
    "        running_corrects = 0\n",
    "\n",
    "        # Iterate over data.\n",
    "        for iter, (inputs, labels) in enumerate(dataloaders['train']):\n",
    "            # print(iter)  \n",
    "            inputs = inputs.to(device)\n",
    "            labels = labels.to(device)\n",
    "            # zero the parameter gradients\n",
    "            optimizer.zero_grad()\n",
    "            outputs = model(inputs)\n",
    "            _, preds = torch.max(outputs, 1)\n",
    "            # loss = nn.CrossEntropyLoss()(outputs, labels)\n",
    "            loss = singletask_loss(outputs, labels)\n",
    "            loss.backward()\n",
    "            optimizer.step()\n",
    "            running_loss += loss.item() * inputs.size(0)\n",
    "            running_corrects += torch.sum(preds == labels[:,0].data)\n",
    "\n",
    "        scheduler.step()\n",
    "        epoch_loss = running_loss / dataset_sizes['train']\n",
    "        epoch_acc = running_corrects.double() / dataset_sizes['train']\n",
    "\n",
    "        print('{} Loss: {:.4f} Acc: {:.4f}'.format('train', epoch_loss, epoch_acc))\n",
    "\n",
    "\n",
    "        # Each epoch has a training and validation phase\n",
    "        model.eval()   # Set model to evaluate mode\n",
    "        running_loss = 0.0\n",
    "        running_corrects = 0\n",
    "\n",
    "        # Iterate over data.        \n",
    "        for (inputs, labels) in dataloaders['val']:  \n",
    "            inputs = inputs.to(device)\n",
    "            labels = labels.to(device)\n",
    "            outputs = model(inputs)\n",
    "            _, preds = torch.max(outputs, 1)\n",
    "            # loss = criterion(outputs, labels)\n",
    "            loss = singletask_loss(outputs, labels)\n",
    "            # statistics\n",
    "            running_loss += loss.item() * inputs.size(0)\n",
    "            running_corrects += torch.sum(preds == labels[:,0].data)\n",
    "\n",
    "        epoch_loss = running_loss / dataset_sizes['val']\n",
    "        epoch_acc = running_corrects.double() / dataset_sizes['val']\n",
    "\n",
    "        print('{} Loss: {:.4f} Acc: {:.4f}'.format('val', epoch_loss, epoch_acc))\n",
    "\n",
    "        if epoch_acc > best_acc:\n",
    "            best_acc = epoch_acc\n",
    "            best_model_wts = copy.deepcopy(model.state_dict())\n",
    "\n",
    "        print()\n",
    "\n",
    "    time_elapsed = time.time() - since\n",
    "    print('Training complete in {:.0f}m {:.0f}s'.format(time_elapsed // 60, time_elapsed % 60))\n",
    "    print('Best val Acc: {:4f}'.format(best_acc))\n",
    "\n",
    "    # load best model weights\n",
    "    model.load_state_dict(best_model_wts)\n",
    "    return model\n",
    "\n"
   ]
  },
  {
   "cell_type": "code",
   "execution_count": 70,
   "metadata": {
    "colab": {
     "base_uri": "https://localhost:8080/",
     "height": 932
    },
    "colab_type": "code",
    "id": "o-VOcvwaOAJG",
    "outputId": "a1c9ad5d-44cf-4b84-c2b4-20b6c653557f"
   },
   "outputs": [
    {
     "name": "stdout",
     "output_type": "stream",
     "text": [
      "Epoch 0/9\n",
      "----------\n",
      "train Loss: 0.6532 Acc: 0.6492\n",
      "val Loss: 0.5347 Acc: 0.7290\n",
      "\n",
      "Epoch 1/9\n",
      "----------\n",
      "train Loss: 0.5401 Acc: 0.7357\n",
      "val Loss: 0.4756 Acc: 0.7734\n",
      "\n",
      "Epoch 2/9\n",
      "----------\n",
      "train Loss: 0.5249 Acc: 0.7445\n",
      "val Loss: 0.7038 Acc: 0.6655\n",
      "\n",
      "Epoch 3/9\n",
      "----------\n",
      "train Loss: 0.5245 Acc: 0.7555\n",
      "val Loss: 0.5024 Acc: 0.7628\n",
      "\n",
      "Epoch 4/9\n",
      "----------\n",
      "train Loss: 0.5697 Acc: 0.7306\n",
      "val Loss: 0.5349 Acc: 0.7607\n",
      "\n",
      "Epoch 5/9\n",
      "----------\n",
      "train Loss: 0.5740 Acc: 0.7416\n",
      "val Loss: 0.4734 Acc: 0.7801\n",
      "\n",
      "Epoch 6/9\n",
      "----------\n",
      "train Loss: 0.5406 Acc: 0.7517\n",
      "val Loss: 0.4981 Acc: 0.7738\n",
      "\n",
      "Epoch 7/9\n",
      "----------\n",
      "train Loss: 0.4425 Acc: 0.7955\n",
      "val Loss: 0.4739 Acc: 0.7814\n",
      "\n",
      "Epoch 8/9\n",
      "----------\n",
      "train Loss: 0.4479 Acc: 0.7833\n",
      "val Loss: 0.4776 Acc: 0.7818\n",
      "\n",
      "Epoch 9/9\n",
      "----------\n",
      "train Loss: 0.4420 Acc: 0.7960\n",
      "val Loss: 0.4623 Acc: 0.7886\n",
      "\n",
      "Training complete in 2m 8s\n",
      "Best val Acc: 0.788584\n"
     ]
    }
   ],
   "source": [
    "model_ft = train_model(model_ft, criterion, optimizer_ft, exp_lr_scheduler, num_epochs=10)"
   ]
  },
  {
   "cell_type": "code",
   "execution_count": null,
   "metadata": {
    "colab": {},
    "colab_type": "code",
    "id": "wt7tLPixPolE"
   },
   "outputs": [],
   "source": []
  },
  {
   "cell_type": "code",
   "execution_count": null,
   "metadata": {
    "colab": {},
    "colab_type": "code",
    "id": "GQjnwOAWPorb"
   },
   "outputs": [],
   "source": []
  },
  {
   "cell_type": "code",
   "execution_count": null,
   "metadata": {
    "colab": {},
    "colab_type": "code",
    "id": "a4OZJV9BPoyO"
   },
   "outputs": [],
   "source": []
  },
  {
   "cell_type": "code",
   "execution_count": null,
   "metadata": {
    "colab": {},
    "colab_type": "code",
    "id": "9hq9qbWVPowV"
   },
   "outputs": [],
   "source": []
  },
  {
   "cell_type": "code",
   "execution_count": null,
   "metadata": {
    "colab": {},
    "colab_type": "code",
    "id": "K4RcQyOOPopi"
   },
   "outputs": [],
   "source": []
  },
  {
   "cell_type": "code",
   "execution_count": null,
   "metadata": {
    "colab": {},
    "colab_type": "code",
    "id": "ErZj7ZKzOAM0"
   },
   "outputs": [],
   "source": []
  },
  {
   "cell_type": "code",
   "execution_count": null,
   "metadata": {
    "colab": {},
    "colab_type": "code",
    "id": "usnSfIIAOAQd"
   },
   "outputs": [],
   "source": []
  },
  {
   "cell_type": "code",
   "execution_count": null,
   "metadata": {
    "colab": {},
    "colab_type": "code",
    "id": "2tTNVhiXOAUR"
   },
   "outputs": [],
   "source": []
  },
  {
   "cell_type": "code",
   "execution_count": null,
   "metadata": {
    "colab": {},
    "colab_type": "code",
    "id": "DrlLqmwnOAX8"
   },
   "outputs": [],
   "source": []
  },
  {
   "cell_type": "code",
   "execution_count": null,
   "metadata": {
    "colab": {},
    "colab_type": "code",
    "id": "-UJxcUcqHyr6"
   },
   "outputs": [],
   "source": [
    "def get_data(sz, bs):\n",
    "    return ImageDataBunch.create(train_ds, valid_ds, path=p, bs=bs, val_bs=sz).normalize(imagenet_stats)\n",
    "\n",
    "data = get_data(sz=200, bs=8)    "
   ]
  },
  {
   "cell_type": "code",
   "execution_count": null,
   "metadata": {
    "colab": {},
    "colab_type": "code",
    "id": "n28MHFueHy2k"
   },
   "outputs": [],
   "source": [
    "learn = create_cnn(data, models.resnet50, \n",
    "                    metrics=[accuracy_gender,\n",
    "                            accuracy_race,\n",
    "                            l1loss_age],\n",
    "                    loss_func=multitask_loss)"
   ]
  },
  {
   "cell_type": "code",
   "execution_count": null,
   "metadata": {
    "colab": {},
    "colab_type": "code",
    "id": "v79H1T0SIIeA"
   },
   "outputs": [],
   "source": [
    "# learn.fit_one_cycle(100)\n",
    "learn.lr_find(start_lr=1e-6)"
   ]
  },
  {
   "cell_type": "code",
   "execution_count": null,
   "metadata": {
    "colab": {},
    "colab_type": "code",
    "id": "Lcs1eZY5IIh3"
   },
   "outputs": [],
   "source": []
  },
  {
   "cell_type": "code",
   "execution_count": null,
   "metadata": {
    "colab": {},
    "colab_type": "code",
    "id": "9Muxh6L2IImM"
   },
   "outputs": [],
   "source": []
  },
  {
   "cell_type": "markdown",
   "metadata": {
    "colab_type": "text",
    "id": "v_EZ4aS6K3Zj"
   },
   "source": [
    "## Convert fastai to normal pytorch"
   ]
  },
  {
   "cell_type": "code",
   "execution_count": null,
   "metadata": {
    "colab": {},
    "colab_type": "code",
    "id": "CofAytx7Hy09"
   },
   "outputs": [],
   "source": []
  },
  {
   "cell_type": "code",
   "execution_count": null,
   "metadata": {
    "colab": {},
    "colab_type": "code",
    "id": "llSQHl_8Ew0V"
   },
   "outputs": [],
   "source": []
  }
 ],
 "metadata": {
  "accelerator": "GPU",
  "colab": {
   "collapsed_sections": [],
   "name": "Not Fastai_single_task",
   "provenance": []
  },
  "kernelspec": {
   "display_name": "Python 3",
   "language": "python",
   "name": "python3"
  },
  "language_info": {
   "codemirror_mode": {
    "name": "ipython",
    "version": 3
   },
   "file_extension": ".py",
   "mimetype": "text/x-python",
   "name": "python",
   "nbconvert_exporter": "python",
   "pygments_lexer": "ipython3",
   "version": "3.7.6"
  }
 },
 "nbformat": 4,
 "nbformat_minor": 1
}
