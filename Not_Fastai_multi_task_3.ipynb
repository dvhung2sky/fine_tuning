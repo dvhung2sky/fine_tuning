{
 "cells": [
  {
   "cell_type": "code",
   "execution_count": 1,
   "metadata": {
    "colab": {},
    "colab_type": "code",
    "id": "f7y4Vm9-Ed1B"
   },
   "outputs": [],
   "source": [
    "%matplotlib inline\n",
    "from pathlib import Path\n",
    "\n",
    "import os\n",
    "import numpy as np\n",
    "import pandas as pd\n",
    "import matplotlib.pyplot as plt\n",
    "from collections import Counter\n",
    "from torchvision import datasets, models, transforms\n",
    "from torch.optim import lr_scheduler\n",
    "import PIL\n",
    "\n",
    "from fastai import *\n",
    "from fastai.vision import *\n",
    "import fastai; fastai.__version__\n",
    "\n",
    "import torch\n",
    "import torch.nn as nn\n",
    "import torch.optim as optim\n",
    "import time\n",
    "import copy\n",
    "\n",
    "import gc "
   ]
  },
  {
   "cell_type": "code",
   "execution_count": 2,
   "metadata": {
    "colab": {},
    "colab_type": "code",
    "id": "9oZ4dvaRRREG"
   },
   "outputs": [],
   "source": [
    "device = torch.device(\"cuda:0\" if torch.cuda.is_available() else \"cpu\")"
   ]
  },
  {
   "cell_type": "code",
   "execution_count": 3,
   "metadata": {},
   "outputs": [
    {
     "data": {
      "text/plain": [
       "40"
      ]
     },
     "execution_count": 3,
     "metadata": {},
     "output_type": "execute_result"
    }
   ],
   "source": [
    "gc.collect(2)"
   ]
  },
  {
   "cell_type": "code",
   "execution_count": 4,
   "metadata": {
    "colab": {
     "base_uri": "https://localhost:8080/",
     "height": 314
    },
    "colab_type": "code",
    "id": "RDzk7AvEE0Dn",
    "outputId": "b51a8afd-ff11-4468-9ab6-0553c924928f"
   },
   "outputs": [],
   "source": [
    "pdata = Path('D://hung//UTKFace//')\n",
    "fns = list(pdata.glob('*.jpg'))\n",
    "fns = [fn for fn in fns if len(str(fn).split('/')[-1].split('_'))==4 and '__' not in str(fn)]"
   ]
  },
  {
   "cell_type": "code",
   "execution_count": 5,
   "metadata": {
    "colab": {},
    "colab_type": "code",
    "id": "TEUapmNRROyU"
   },
   "outputs": [],
   "source": [
    " fns = [fn for fn in fns if len(str(fn).split('/')[-1].split('_'))==4 and '__' not in str(fn)]"
   ]
  },
  {
   "cell_type": "code",
   "execution_count": 6,
   "metadata": {
    "colab": {},
    "colab_type": "code",
    "id": "iD30TQuCEwps"
   },
   "outputs": [],
   "source": [
    "def show_dct(dct, n=3):\n",
    "    return dict(list(dct.items())[:n])"
   ]
  },
  {
   "cell_type": "code",
   "execution_count": 7,
   "metadata": {
    "colab": {
     "base_uri": "https://localhost:8080/",
     "height": 70
    },
    "colab_type": "code",
    "id": "nBxOcIV5Ews4",
    "outputId": "bcc70739-7959-4300-880e-d34cdbceaaee"
   },
   "outputs": [
    {
     "data": {
      "text/plain": [
       "['100_0_0_20170112213500903.jpg.chip.jpg',\n",
       " '100_0_0_20170112215240346.jpg.chip.jpg',\n",
       " '100_1_0_20170110183726390.jpg.chip.jpg']"
      ]
     },
     "execution_count": 7,
     "metadata": {},
     "output_type": "execute_result"
    }
   ],
   "source": [
    "i2fn = fns\n",
    "fn2i = {fn:i for i,fn in enumerate(i2fn)}\n",
    "show_dct(fn2i)\n",
    "bs_fns = [os.path.basename(o) for o in fns]\n",
    "bs_fns[:3]"
   ]
  },
  {
   "cell_type": "code",
   "execution_count": 8,
   "metadata": {
    "colab": {},
    "colab_type": "code",
    "id": "D_44LlcXFh2w"
   },
   "outputs": [],
   "source": [
    "i2age, i2gender, i2race = zip(*[bs_fn.split('_')[:3] for bs_fn in bs_fns])"
   ]
  },
  {
   "cell_type": "code",
   "execution_count": 9,
   "metadata": {
    "colab": {
     "base_uri": "https://localhost:8080/",
     "height": 193
    },
    "colab_type": "code",
    "id": "P2Q8kZRaFh6X",
    "outputId": "4618e28f-815e-454c-e38e-2f7b69c32c30"
   },
   "outputs": [
    {
     "data": {
      "text/plain": [
       "[(('Asian', 'f'), 1859),\n",
       " (('Asian', 'm'), 1575),\n",
       " (('Black', 'f'), 2208),\n",
       " (('Black', 'm'), 2318),\n",
       " (('Indian', 'f'), 1714),\n",
       " (('Indian', 'm'), 2261),\n",
       " (('Others', 'f'), 932),\n",
       " (('Others', 'm'), 760),\n",
       " (('White', 'f'), 4601),\n",
       " (('White', 'm'), 5477)]"
      ]
     },
     "execution_count": 9,
     "metadata": {},
     "output_type": "execute_result"
    }
   ],
   "source": [
    "i2age = [int(o) for o in i2age]\n",
    "o2gender = {'0': 'm', '1': 'f'}\n",
    "i2gender = [o2gender[o] for o in i2gender]\n",
    "o2race = dict(list(enumerate(('White', 'Black', 'Asian', 'Indian', 'Others'))))\n",
    "i2race = [o2race[int(o)] for o in i2race]\n",
    "sorted(Counter(list(zip(i2race, i2gender))). items())"
   ]
  },
  {
   "cell_type": "code",
   "execution_count": 10,
   "metadata": {
    "colab": {},
    "colab_type": "code",
    "id": "rrWw57IrF40U"
   },
   "outputs": [],
   "source": [
    "df = pd.DataFrame({'img_name': i2fn, 'age': i2age, 'gender': i2gender, 'race': i2race})\n",
    "# df.to_csv('img2targets.csv', index=False)"
   ]
  },
  {
   "cell_type": "code",
   "execution_count": 23,
   "metadata": {
    "colab": {
     "base_uri": "https://localhost:8080/",
     "height": 195
    },
    "colab_type": "code",
    "id": "fYkd-YmOF44E",
    "outputId": "c70860f9-cf2b-406c-b3a8-67f5beef0870"
   },
   "outputs": [
    {
     "data": {
      "text/html": [
       "<div>\n",
       "<style scoped>\n",
       "    .dataframe tbody tr th:only-of-type {\n",
       "        vertical-align: middle;\n",
       "    }\n",
       "\n",
       "    .dataframe tbody tr th {\n",
       "        vertical-align: top;\n",
       "    }\n",
       "\n",
       "    .dataframe thead th {\n",
       "        text-align: right;\n",
       "    }\n",
       "</style>\n",
       "<table border=\"1\" class=\"dataframe\">\n",
       "  <thead>\n",
       "    <tr style=\"text-align: right;\">\n",
       "      <th></th>\n",
       "      <th>img_name</th>\n",
       "      <th>age</th>\n",
       "      <th>gender</th>\n",
       "      <th>race</th>\n",
       "      <th>is_train</th>\n",
       "    </tr>\n",
       "  </thead>\n",
       "  <tbody>\n",
       "    <tr>\n",
       "      <th>0</th>\n",
       "      <td>D:\\hung\\UTKFace\\100_0_0_20170112213500903.jpg....</td>\n",
       "      <td>100</td>\n",
       "      <td>m</td>\n",
       "      <td>White</td>\n",
       "      <td>2</td>\n",
       "    </tr>\n",
       "    <tr>\n",
       "      <th>1</th>\n",
       "      <td>D:\\hung\\UTKFace\\100_0_0_20170112215240346.jpg....</td>\n",
       "      <td>100</td>\n",
       "      <td>m</td>\n",
       "      <td>White</td>\n",
       "      <td>1</td>\n",
       "    </tr>\n",
       "    <tr>\n",
       "      <th>2</th>\n",
       "      <td>D:\\hung\\UTKFace\\100_1_0_20170110183726390.jpg....</td>\n",
       "      <td>100</td>\n",
       "      <td>f</td>\n",
       "      <td>White</td>\n",
       "      <td>0</td>\n",
       "    </tr>\n",
       "    <tr>\n",
       "      <th>3</th>\n",
       "      <td>D:\\hung\\UTKFace\\100_1_0_20170112213001988.jpg....</td>\n",
       "      <td>100</td>\n",
       "      <td>f</td>\n",
       "      <td>White</td>\n",
       "      <td>2</td>\n",
       "    </tr>\n",
       "    <tr>\n",
       "      <th>4</th>\n",
       "      <td>D:\\hung\\UTKFace\\100_1_0_20170112213303693.jpg....</td>\n",
       "      <td>100</td>\n",
       "      <td>f</td>\n",
       "      <td>White</td>\n",
       "      <td>2</td>\n",
       "    </tr>\n",
       "  </tbody>\n",
       "</table>\n",
       "</div>"
      ],
      "text/plain": [
       "                                            img_name  age gender   race  \\\n",
       "0  D:\\hung\\UTKFace\\100_0_0_20170112213500903.jpg....  100      m  White   \n",
       "1  D:\\hung\\UTKFace\\100_0_0_20170112215240346.jpg....  100      m  White   \n",
       "2  D:\\hung\\UTKFace\\100_1_0_20170110183726390.jpg....  100      f  White   \n",
       "3  D:\\hung\\UTKFace\\100_1_0_20170112213001988.jpg....  100      f  White   \n",
       "4  D:\\hung\\UTKFace\\100_1_0_20170112213303693.jpg....  100      f  White   \n",
       "\n",
       "   is_train  \n",
       "0         2  \n",
       "1         1  \n",
       "2         0  \n",
       "3         2  \n",
       "4         2  "
      ]
     },
     "execution_count": 23,
     "metadata": {},
     "output_type": "execute_result"
    }
   ],
   "source": [
    "df['is_train'] = np.random.choice(3, size=len(df), p=[0.1, 0.3, 0.6])\n",
    "df.head()"
   ]
  },
  {
   "cell_type": "code",
   "execution_count": 24,
   "metadata": {
    "colab": {},
    "colab_type": "code",
    "id": "E_OkD9KjNrpX"
   },
   "outputs": [],
   "source": [
    "# Data augmentation and normalization for training\n",
    "# Just normalization for validation\n",
    "d_transforms = transforms.Compose([\n",
    "        transforms.Resize(256),\n",
    "        transforms.CenterCrop(224),\n",
    "        transforms.ToTensor(),\n",
    "        transforms.Normalize([0.485, 0.456, 0.406], [0.229, 0.224, 0.225]) ])\n"
   ]
  },
  {
   "cell_type": "code",
   "execution_count": 25,
   "metadata": {
    "colab": {},
    "colab_type": "code",
    "id": "EuYGQHwshewP"
   },
   "outputs": [],
   "source": [
    "class MultitaskDataset(torch.utils.data.dataset.Dataset):\n",
    "    \"`Dataset` for joint single and multi-label image classification.\"\n",
    "    def __init__(self, \n",
    "                 fns,\n",
    "                 labels_gender,\n",
    "                 labels_race,\n",
    "                 labels_age,\n",
    "                 classes_gender, \n",
    "                 classes_race,\n",
    "                 transform):\n",
    "        \n",
    "        self.x = np.array(fns)         \n",
    "\n",
    "        self.classes_gender = classes_gender\n",
    "        self.class2idx_gender = {v:k for k,v in enumerate(self.classes_gender)}\n",
    "        self.y_gender = np.array([self.class2idx_gender[o] for o in labels_gender], dtype=np.int64)\n",
    "        self.c_gender = len(classes_gender)\n",
    "        \n",
    "        self.classes_race = classes_race\n",
    "        self.class2idx_race = {v:k for k,v in enumerate(self.classes_race)}\n",
    "        self.y_race = np.array([self.class2idx_race[o] for o in labels_race], dtype=np.int64)\n",
    "        self.c_race = len(classes_race)\n",
    "        \n",
    "        self.y_age = labels_age[:, None].astype('float32')\n",
    "\n",
    "        self.transform = transform\n",
    "    \n",
    "    def __len__(self): return len(self.x)\n",
    "    \n",
    "    def __getitem__(self,i:int):\n",
    "        return self.transform(PIL.Image.open(self.x[i])), torch.tensor([self.y_gender[i], self.y_race[i], self.y_age[i]])\n",
    "    \n",
    "    def __repr__(self): return f'{type(self).__name__} of len {len(self)}'"
   ]
  },
  {
   "cell_type": "code",
   "execution_count": 26,
   "metadata": {
    "colab": {},
    "colab_type": "code",
    "id": "hcdCsnttHcf6"
   },
   "outputs": [],
   "source": [
    "def get_dataset(df):\n",
    "    return MultitaskDataset(df.img_name, \n",
    "                            labels_gender=df.gender, \n",
    "                            labels_race=df.race, \n",
    "                            labels_age=df.age, \n",
    "                            classes_gender=sorted(set(df.gender)), \n",
    "                            classes_race=sorted(set(df.race)), \n",
    "                            transform = d_transforms)"
   ]
  },
  {
   "cell_type": "code",
   "execution_count": 27,
   "metadata": {
    "colab": {},
    "colab_type": "code",
    "id": "62_rVvc7P_Mq"
   },
   "outputs": [],
   "source": [
    "N_g=len(set(df.gender)) \n",
    "N_r=len(set(df.race))"
   ]
  },
  {
   "cell_type": "code",
   "execution_count": 28,
   "metadata": {
    "colab": {},
    "colab_type": "code",
    "id": "wPejUuiCHcoU"
   },
   "outputs": [],
   "source": [
    "train_ds = get_dataset(df[df.is_train==1])\n",
    "valid_ds = get_dataset(df[df.is_train==0])"
   ]
  },
  {
   "cell_type": "code",
   "execution_count": 29,
   "metadata": {
    "colab": {
     "base_uri": "https://localhost:8080/",
     "height": 34
    },
    "colab_type": "code",
    "id": "UY6RKX-Wgyv3",
    "outputId": "b6c710a9-a524-429b-920c-4d6059e1a7a5"
   },
   "outputs": [
    {
     "data": {
      "text/plain": [
       "{'train': 7248, 'val': 2333}"
      ]
     },
     "execution_count": 29,
     "metadata": {},
     "output_type": "execute_result"
    }
   ],
   "source": [
    "dataset_sizes = {'train': len(train_ds), 'val': len(valid_ds)}\n",
    "\n",
    "train_loader = torch.utils.data.DataLoader(train_ds, batch_size=8,shuffle=True)\n",
    "valid_loader = torch.utils.data.DataLoader(valid_ds, batch_size=8,shuffle=True)\n",
    "\n",
    "dataloaders={'train': train_loader, 'val': valid_loader}\n",
    "dataset_sizes"
   ]
  },
  {
   "cell_type": "code",
   "execution_count": 30,
   "metadata": {
    "colab": {},
    "colab_type": "code",
    "id": "68G_cFuqHzFV"
   },
   "outputs": [],
   "source": [
    "def singletask_loss(input, target):\n",
    "    target_t = target[:,0]\n",
    "    loss = F.cross_entropy(input, target_t.long())\n",
    "    return loss"
   ]
  },
  {
   "cell_type": "code",
   "execution_count": 31,
   "metadata": {
    "colab": {},
    "colab_type": "code",
    "id": "U1pVhlX0QTi3"
   },
   "outputs": [],
   "source": [
    "def multitask_loss(input, target):\n",
    "    input_g = input[:,:N_g]\n",
    "    input_r = input[:,N_g:N_g+N_r]\n",
    "    input_a = input[:,-1]\n",
    "    target_g = target[:,0]\n",
    "    target_r = target[:,1]\n",
    "    target_a = target[:,2]\n",
    "\n",
    "    loss_g = torch.nn.functional.cross_entropy(input_g, target_g.long())\n",
    "    loss_r = torch.nn.functional.cross_entropy(input_r, target_r.long())\n",
    "    loss_a = torch.nn.functional.l1_loss(input_a, target_a.float())\n",
    "    \n",
    "    loss = 0.5*loss_g + 0.5*loss_r + 0.1*loss_a\n",
    "\n",
    "    return loss\n"
   ]
  },
  {
   "cell_type": "markdown",
   "metadata": {
    "colab_type": "text",
    "id": "gRY_roMKODR-"
   },
   "source": [
    "## Model"
   ]
  },
  {
   "cell_type": "code",
   "execution_count": 46,
   "metadata": {
    "colab": {},
    "colab_type": "code",
    "id": "sogXC4XbOBi8"
   },
   "outputs": [],
   "source": [
    "N_gender = len(set(df.gender))\n",
    "\n",
    "model_ft = models.resnet18(pretrained=True)\n",
    "for i, param in enumerate(model_ft.parameters()):\n",
    "    if i < 50:\n",
    "        param.requires_grad = False\n",
    "\n",
    "    \n",
    "num_ftrs = model_ft.fc.in_features\n",
    "model_ft.fc = nn.Linear(num_ftrs, N_g + N_r)\n",
    "model_ft = model_ft.to(device)\n",
    "optimizer_ft = optim.SGD(model_ft.parameters(), lr=0.001, momentum=0.9)\n",
    "exp_lr_scheduler = lr_scheduler.StepLR(optimizer_ft, step_size=7, gamma=0.1)\n",
    "criterion = nn.CrossEntropyLoss()"
   ]
  },
  {
   "cell_type": "code",
   "execution_count": 49,
   "metadata": {
    "colab": {},
    "colab_type": "code",
    "id": "bfW8ulZAOBn7"
   },
   "outputs": [],
   "source": [
    "def train_model(model, criterion, optimizer, scheduler, num_epochs=25):\n",
    "    since = time.time()\n",
    "\n",
    "    best_model_wts = copy.deepcopy(model.state_dict())\n",
    "    best_acc_g = 0.0\n",
    "\n",
    "    for epoch in range(num_epochs):\n",
    "        print('Epoch {}/{}'.format(epoch, num_epochs - 1))\n",
    "        print('-' * 10)\n",
    "\n",
    "        # Each epoch has a training and validation phase\n",
    "        model.train()  # Set model to training mode\n",
    "        running_loss = 0.0\n",
    "        running_corrects_g = 0\n",
    "        running_corrects_r = 0\n",
    "        running_age = 0.0\n",
    "\n",
    "        # Iterate over data.\n",
    "        for iter, (inputs, labels) in enumerate(dataloaders['train']):\n",
    "            # print(iter)  \n",
    "            inputs = inputs.to(device)\n",
    "            labels = labels.to(device)\n",
    "            # zero the parameter gradients\n",
    "            optimizer.zero_grad()\n",
    "            outputs = model(inputs)\n",
    "            loss = multitask_loss(outputs, labels)\n",
    "            loss.backward()\n",
    "            optimizer.step()            \n",
    "            running_loss += loss.item() * inputs.size(0)\n",
    "\n",
    "            _, preds_g = torch.max(outputs[:,:N_g], 1)\n",
    "            _, preds_r = torch.max(outputs[:,N_g:N_g+N_r], 1)\n",
    "            pred_a = outputs[:,-1]\n",
    "            \n",
    "            running_corrects_g += torch.sum(preds_g == labels[:,0].data)\n",
    "            running_corrects_r += torch.sum(preds_r == labels[:,1].data)\n",
    "            running_age += torch.nn.functional.l1_loss(pred_a, labels[:,2].data)\n",
    "\n",
    "        scheduler.step()\n",
    "        epoch_loss = running_loss / dataset_sizes['train']\n",
    "        epoch_acc_g = running_corrects_g.double() / dataset_sizes['train']\n",
    "        epoch_acc_r = running_corrects_r.double() / dataset_sizes['train']\n",
    "        epoch_loss_a= running_age.double() /  dataset_sizes['train']\n",
    "\n",
    "        print('{} Loss: {:.4f} Acc_gender: {:.4f} Acc_race: {:.4f} Loss_age {:.4f}'.format('train', epoch_loss, epoch_acc_g, epoch_acc_r, epoch_loss_a))\n",
    "\n",
    "\n",
    "        # Each epoch has a training and validation phase\n",
    "        model.eval()   # Set model to evaluate mode\n",
    "        running_loss = 0.0\n",
    "        running_corrects_g = 0\n",
    "        running_corrects_r = 0\n",
    "        running_age = 0.0\n",
    "\n",
    "        # Iterate over data.        \n",
    "        for (inputs, labels) in dataloaders['val']:  \n",
    "            inputs = inputs.to(device)\n",
    "            labels = labels.to(device)\n",
    "            outputs = model(inputs)\n",
    "            _, preds = torch.max(outputs, 1)\n",
    "            # loss = criterion(outputs, labels)\n",
    "            loss = multitask_loss(outputs, labels)\n",
    "            # statistics\n",
    "            running_loss += loss.item() * inputs.size(0)\n",
    "            _, preds_g = torch.max(outputs[:,:N_g], 1)\n",
    "            _, preds_r = torch.max(outputs[:,N_g:N_g+N_r], 1)\n",
    "            pred_a = outputs[:,-1]\n",
    "            \n",
    "            running_corrects_g += torch.sum(preds_g == labels[:,0].data)\n",
    "            running_corrects_r += torch.sum(preds_r == labels[:,1].data)\n",
    "            running_age += torch.nn.functional.l1_loss(pred_a, labels[:,2].data)\n",
    "            \n",
    "            \n",
    "            \n",
    "        epoch_loss = running_loss / dataset_sizes['val']\n",
    "        epoch_acc_g = running_corrects_g.double() / dataset_sizes['val']\n",
    "        epoch_acc_r = running_corrects_r.double() / dataset_sizes['val']\n",
    "        epoch_loss_a= running_age.double() /  dataset_sizes['val']\n",
    "\n",
    "        print('{} Loss: {:.4f} Acc_gender: {:.4f} Acc_race: {:.4f} Loss_age {:.4f}'.format('Val', epoch_loss, epoch_acc_g, epoch_acc_r, epoch_loss_a))\n",
    "\n",
    "        if epoch_acc_g > best_acc_g:\n",
    "            best_acc_g = epoch_acc_g\n",
    "            best_model_wts = copy.deepcopy(model.state_dict())\n",
    "\n",
    "        print()\n",
    "\n",
    "    time_elapsed = time.time() - since\n",
    "    print('Training complete in {:.0f}m {:.0f}s'.format(time_elapsed // 60, time_elapsed % 60))\n",
    "    print('Best val Acc: {:4f}'.format(best_acc_g))\n",
    "\n",
    "    # load best model weights\n",
    "    model.load_state_dict(best_model_wts)\n",
    "    return model\n",
    "\n"
   ]
  },
  {
   "cell_type": "code",
   "execution_count": 50,
   "metadata": {
    "colab": {
     "base_uri": "https://localhost:8080/",
     "height": 932
    },
    "colab_type": "code",
    "id": "o-VOcvwaOAJG",
    "outputId": "a1c9ad5d-44cf-4b84-c2b4-20b6c653557f"
   },
   "outputs": [
    {
     "name": "stdout",
     "output_type": "stream",
     "text": [
      "Epoch 0/19\n",
      "----------\n",
      "train Loss: 1.0615 Acc_gender: 0.9287 Acc_race: 0.8655 Loss_age 0.9654\n",
      "Val Loss: 1.3351 Acc_gender: 0.8727 Acc_race: 0.7252 Loss_age 0.9742\n",
      "\n",
      "Epoch 1/19\n",
      "----------\n",
      "train Loss: 1.0302 Acc_gender: 0.9273 Acc_race: 0.8772 Loss_age 0.9397\n",
      "Val Loss: 1.3123 Acc_gender: 0.8736 Acc_race: 0.7231 Loss_age 0.9305\n",
      "\n",
      "Epoch 2/19\n",
      "----------\n",
      "train Loss: 1.0218 Acc_gender: 0.9307 Acc_race: 0.8742 Loss_age 0.9341\n",
      "Val Loss: 1.3058 Acc_gender: 0.8736 Acc_race: 0.7300 Loss_age 0.9281\n",
      "\n",
      "Epoch 3/19\n",
      "----------\n",
      "train Loss: 1.0402 Acc_gender: 0.9381 Acc_race: 0.8791 Loss_age 0.9648\n",
      "Val Loss: 1.3124 Acc_gender: 0.8710 Acc_race: 0.7321 Loss_age 0.9262\n",
      "\n",
      "Epoch 4/19\n",
      "----------\n",
      "train Loss: 1.0436 Acc_gender: 0.9374 Acc_race: 0.8859 Loss_age 0.9834\n",
      "Val Loss: 1.3084 Acc_gender: 0.8718 Acc_race: 0.7312 Loss_age 0.9332\n",
      "\n",
      "Epoch 5/19\n",
      "----------\n",
      "train Loss: 1.0294 Acc_gender: 0.9409 Acc_race: 0.8855 Loss_age 0.9625\n",
      "Val Loss: 1.3100 Acc_gender: 0.8736 Acc_race: 0.7244 Loss_age 0.9260\n",
      "\n",
      "Epoch 6/19\n",
      "----------\n",
      "train Loss: 1.0100 Acc_gender: 0.9386 Acc_race: 0.8906 Loss_age 0.9510\n",
      "Val Loss: 1.3513 Acc_gender: 0.8740 Acc_race: 0.7205 Loss_age 0.9692\n",
      "\n",
      "Epoch 7/19\n",
      "----------\n",
      "train Loss: 1.0102 Acc_gender: 0.9440 Acc_race: 0.8844 Loss_age 0.9490\n",
      "Val Loss: 1.3003 Acc_gender: 0.8744 Acc_race: 0.7244 Loss_age 0.9295\n",
      "\n",
      "Epoch 8/19\n",
      "----------\n",
      "train Loss: 0.9896 Acc_gender: 0.9484 Acc_race: 0.8914 Loss_age 0.9317\n",
      "Val Loss: 1.3159 Acc_gender: 0.8701 Acc_race: 0.7201 Loss_age 0.9300\n",
      "\n",
      "Epoch 9/19\n",
      "----------\n",
      "train Loss: 1.0092 Acc_gender: 0.9347 Acc_race: 0.8939 Loss_age 0.9460\n",
      "Val Loss: 1.3268 Acc_gender: 0.8740 Acc_race: 0.7261 Loss_age 0.9512\n",
      "\n",
      "Epoch 10/19\n",
      "----------\n",
      "train Loss: 1.0114 Acc_gender: 0.9416 Acc_race: 0.8925 Loss_age 0.9545\n",
      "Val Loss: 1.3321 Acc_gender: 0.8706 Acc_race: 0.7261 Loss_age 0.9596\n",
      "\n",
      "Epoch 11/19\n",
      "----------\n",
      "train Loss: 0.9833 Acc_gender: 0.9483 Acc_race: 0.8882 Loss_age 0.9253\n",
      "Val Loss: 1.2990 Acc_gender: 0.8757 Acc_race: 0.7210 Loss_age 0.9212\n",
      "\n",
      "Epoch 12/19\n",
      "----------\n",
      "train Loss: 0.9781 Acc_gender: 0.9499 Acc_race: 0.8949 Loss_age 0.9284\n",
      "Val Loss: 1.3435 Acc_gender: 0.8693 Acc_race: 0.7240 Loss_age 0.9687\n",
      "\n",
      "Epoch 13/19\n",
      "----------\n",
      "train Loss: 1.0136 Acc_gender: 0.9425 Acc_race: 0.8880 Loss_age 0.9527\n",
      "Val Loss: 1.3117 Acc_gender: 0.8697 Acc_race: 0.7235 Loss_age 0.9196\n",
      "\n",
      "Epoch 14/19\n",
      "----------\n",
      "train Loss: 1.0071 Acc_gender: 0.9403 Acc_race: 0.8819 Loss_age 0.9438\n",
      "Val Loss: 1.3020 Acc_gender: 0.8714 Acc_race: 0.7291 Loss_age 0.9227\n",
      "\n",
      "Epoch 15/19\n",
      "----------\n",
      "train Loss: 1.0070 Acc_gender: 0.9418 Acc_race: 0.8917 Loss_age 0.9506\n",
      "Val Loss: 1.3263 Acc_gender: 0.8744 Acc_race: 0.7257 Loss_age 0.9427\n",
      "\n",
      "Epoch 16/19\n",
      "----------\n",
      "train Loss: 1.0135 Acc_gender: 0.9404 Acc_race: 0.8920 Loss_age 0.9596\n",
      "Val Loss: 1.3078 Acc_gender: 0.8770 Acc_race: 0.7342 Loss_age 0.9308\n",
      "\n",
      "Epoch 17/19\n",
      "----------\n",
      "train Loss: 1.0256 Acc_gender: 0.9436 Acc_race: 0.8895 Loss_age 0.9686\n",
      "Val Loss: 1.3020 Acc_gender: 0.8714 Acc_race: 0.7278 Loss_age 0.9260\n",
      "\n",
      "Epoch 18/19\n",
      "----------\n",
      "train Loss: 0.9940 Acc_gender: 0.9378 Acc_race: 0.8924 Loss_age 0.9314\n",
      "Val Loss: 1.3216 Acc_gender: 0.8748 Acc_race: 0.7287 Loss_age 0.9472\n",
      "\n",
      "Epoch 19/19\n",
      "----------\n",
      "train Loss: 0.9913 Acc_gender: 0.9415 Acc_race: 0.8889 Loss_age 0.9293\n",
      "Val Loss: 1.3133 Acc_gender: 0.8701 Acc_race: 0.7227 Loss_age 0.9253\n",
      "\n",
      "Training complete in 9m 4s\n",
      "Best val Acc: 0.876982\n"
     ]
    }
   ],
   "source": [
    "model_ft = train_model(model_ft, criterion, optimizer_ft, exp_lr_scheduler, num_epochs=20)"
   ]
  },
  {
   "cell_type": "code",
   "execution_count": 39,
   "metadata": {
    "colab": {
     "base_uri": "https://localhost:8080/",
     "height": 34
    },
    "colab_type": "code",
    "id": "zSJUR4wtPohQ",
    "outputId": "fc027690-e0ff-4d9a-a6a8-2b7ae91cf800"
   },
   "outputs": [
    {
     "data": {
      "text/plain": [
       "225"
      ]
     },
     "execution_count": 39,
     "metadata": {},
     "output_type": "execute_result"
    }
   ],
   "source": [
    "\n",
    "dataset_sizes['val']"
   ]
  },
  {
   "cell_type": "code",
   "execution_count": null,
   "metadata": {
    "colab": {},
    "colab_type": "code",
    "id": "wt7tLPixPolE"
   },
   "outputs": [],
   "source": []
  },
  {
   "cell_type": "code",
   "execution_count": null,
   "metadata": {
    "colab": {},
    "colab_type": "code",
    "id": "GQjnwOAWPorb"
   },
   "outputs": [],
   "source": []
  },
  {
   "cell_type": "code",
   "execution_count": null,
   "metadata": {
    "colab": {},
    "colab_type": "code",
    "id": "a4OZJV9BPoyO"
   },
   "outputs": [],
   "source": []
  },
  {
   "cell_type": "code",
   "execution_count": null,
   "metadata": {
    "colab": {},
    "colab_type": "code",
    "id": "9hq9qbWVPowV"
   },
   "outputs": [],
   "source": []
  },
  {
   "cell_type": "code",
   "execution_count": null,
   "metadata": {
    "colab": {},
    "colab_type": "code",
    "id": "K4RcQyOOPopi"
   },
   "outputs": [],
   "source": []
  },
  {
   "cell_type": "code",
   "execution_count": null,
   "metadata": {
    "colab": {},
    "colab_type": "code",
    "id": "ErZj7ZKzOAM0"
   },
   "outputs": [],
   "source": []
  },
  {
   "cell_type": "code",
   "execution_count": null,
   "metadata": {
    "colab": {},
    "colab_type": "code",
    "id": "usnSfIIAOAQd"
   },
   "outputs": [],
   "source": []
  },
  {
   "cell_type": "code",
   "execution_count": null,
   "metadata": {
    "colab": {},
    "colab_type": "code",
    "id": "2tTNVhiXOAUR"
   },
   "outputs": [],
   "source": []
  },
  {
   "cell_type": "code",
   "execution_count": null,
   "metadata": {
    "colab": {},
    "colab_type": "code",
    "id": "CofAytx7Hy09"
   },
   "outputs": [],
   "source": []
  },
  {
   "cell_type": "code",
   "execution_count": null,
   "metadata": {
    "colab": {},
    "colab_type": "code",
    "id": "llSQHl_8Ew0V"
   },
   "outputs": [],
   "source": []
  }
 ],
 "metadata": {
  "accelerator": "GPU",
  "colab": {
   "collapsed_sections": [],
   "name": "Not Fastai_multi_task_2",
   "provenance": []
  },
  "kernelspec": {
   "display_name": "Python 3",
   "language": "python",
   "name": "python3"
  },
  "language_info": {
   "codemirror_mode": {
    "name": "ipython",
    "version": 3
   },
   "file_extension": ".py",
   "mimetype": "text/x-python",
   "name": "python",
   "nbconvert_exporter": "python",
   "pygments_lexer": "ipython3",
   "version": "3.7.6"
  }
 },
 "nbformat": 4,
 "nbformat_minor": 1
}
